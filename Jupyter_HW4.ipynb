{
 "cells": [
  {
   "cell_type": "markdown",
   "metadata": {},
   "source": [
    "### Channel Incision\n",
    "In some landscapes, channels are primarily covered by sediment. In other cases, the channel bed consists predominantly of bedrock. Whether or not a landscape generally supports bedrock channels or alluvial channels is a function of many variables, including uplift rate, sediment supply, and climatic factors. In this exercise, we will focus only on bedrock channels. Some motivating questions that we will explore here include: (1) What does the longitudinal profile of a steady state bedrock channel look like?, (2) How does rock erodibility influence the longitudinal profile of a bedrock channel?, and (3) How do bedrock channels respond to changes in base level?\n",
    "\n",
    "<img src=\"BedrockAlluvial.png\" alt=\"Drawing\"/>"
   ]
  },
  {
   "cell_type": "markdown",
   "metadata": {},
   "source": [
    "### Our approach\n",
    "Channels are obviously embedded within complex landscapes, but we will focus on a one-dimensional problem in order to simplify our analysis. In particular, we will simulate how the longitudinal channel profile changes with time. The longitudinal channel profile refers to elevation as a function of distance downstream from the channel head. We will use equations that we have discussed in class to simulate bedrock channel erosion. Do not worry about understanding every line of code or every aspect of the equations. **Focus your attention on understanding how changes in model inputs (parameters) are reflected in the landscape. For example, how does the channel profile change when you modify a parameter? Does this observed change make sense based on the relationships that we know between erosion of bedrock channels, slope, and drainage area.** A key point of this assignment is to explore how some of the theory (e.g. equations, models) that we have discussed in class can be used to explain (or better yet to predict!) landforms that we can observe in the field or in remotely sensed data such as LiDAR-derived maps of elevation."
   ]
  },
  {
   "cell_type": "markdown",
   "metadata": {},
   "source": [
    "### Our model for the evolution of a bedrock channel\n",
    "We will consider only two process in our model for the evolution of a bedrock channel. The first process is uplift, which we will assume is constant with time. The second process is erosion of the bedrock channel by plucking. In isolation of other processes, uplift leads to increases in elevation while channel erosion (via plucking) leads to decreases in elevation. Therefore, the change in elevation at any point in the landscape is determined by the magnitude of uplift relative to the magnitude of erosion by plucking. The way to express this mathematically is:\n",
    "\n",
    "$$\\frac{\\partial{z}}{\\partial t}=U-E$$\n",
    "\n",
    "where $z$ denotes elevation, $U$ is the uplift rate, and $E$ is the erosion rate. The term on the left hand side of the equation is the derivative of $z$ with respect to time. Recall that a derivative is a mathematical way to express a \"rate of change\" so the term on left hand side of the equation can be thought of as \"the rate of change of elevation with time\". So, in words, the equation above simply says \"The rate of change of elevation with time is equal to the rate of uplift minus the rate of erosion.\" The erosion rate at any one point in the channel due to plucking is given by the following equation, as we discussed in class:\n",
    "\n",
    "$$E=\\kappa S A^{1/2}$$\n",
    "\n",
    "where $A$ is the upslope drainage (contributing) area, $S$ is the slope, and $\\kappa$ is referred to as the erodibility coefficient. The erodibility coefficient ($\\kappa$) is a function of climate and rock type. The rate of erosion will be greater, for example, if there is more rainfall (all else being equal). The rate of erosion would be greater if the rock is relatively weak (all else being equal). There needs to be some way to account for these variations and $\\kappa$ is the parameter that accomplishes that function in this model. "
   ]
  },
  {
   "cell_type": "markdown",
   "metadata": {},
   "source": [
    "### Steady state profile of a bedrock channel\n",
    "\n",
    "Before we start exploring how different factors influence bedrock channels, we need to establish a base line of some kind. What should the longitudinal profile of a bedrock channel look like? As mentioned earlier, we will be considering the simple case where a landscape is continuously being uplifted at a constant rate. Imagine a bedrock channel coming off of a mountain range that is being uplifted at some constant rate. We want to convince you that if you watch that channel for a very very long time (several million years), then it will eventually stop changing. Suppose that the channel is initially very steep in some location. Since the rate of erosion increases with slope, erosion rates will be higher in that location and erosion will outpace uplift. Eventually, enough erosion will occur in that area so that the slope decreases. The slope will continue to decrease until the erosion rate at that location is exactly balanced by the uplift rate. Now imagine a location where the slope is too low (i.e. erosion rates are less than uplift rates), then uplift will outpace erosion and the slope will increase over time in that location as a result. The slope will continue to increase until the erosion rate is high enough that it exactly equals the uplift rate. Therefore, if you wait and watch for long enough, the elevation profile of the channel will eventually stop changing. We refer to this type of landscape as a **steady state** landscape because it is \"steady\" and does not change with time.\n",
    "\n",
    "Hopefully you are now convinced that if erosion processes are able to act on a bedrock channel for a sufficiently long period of time, the channel profile will eventually stop changing. What will the profile of this steady state bedrock channel look like? The code block below is set up to run a numerical model that will help us answer that question. The model solves the above equation (described in the section above) to determine the steady state profile of a bedrock channel. Notice that you can set the value for the uplift rate ($U$) and the erodibility coefficient ($\\kappa$). There is no need to change those values now. When you run the code in the cell below, you will see two plots appear. One plot shows the absolute value of the slope as a function of distance from the channel head. The other shows how elevation changes as a function of distance from the channel head. Run the code block below when you are ready. **Note that it may take a minute to finish running before the plots appear.**"
   ]
  },
  {
   "cell_type": "code",
   "execution_count": null,
   "metadata": {},
   "outputs": [],
   "source": [
    "# YOU DO NOT NEED TO MODIFY ANY OF THIS CODE\n",
    "\n",
    "U=0.1               # Uplift Rate [m/kyr]\n",
    "kappa=0.01          # Bedrock erodibility\n",
    "time=1000           # Total simulation time [kyr]\n",
    "\n",
    "# Run the model\n",
    "from channelevolution import bedrockchannel\n",
    "[distance,area,elevation,slope] = bedrockchannel(time,U,kappa,kappa,0)\n",
    "\n",
    "# Plot the results\n",
    "import matplotlib.pyplot as plt\n",
    "\n",
    "plt.plot(distance,slope,'b-')\n",
    "plt.xlabel('distance from channel head [m]', fontsize=14)\n",
    "plt.ylabel('|slope| [-]', fontsize=14)\n",
    "plt.show()\n",
    "\n",
    "plt.plot(distance,elevation,'b-')\n",
    "plt.xlabel('distance from channel head [m]', fontsize=14)\n",
    "plt.ylabel('elevation [m]', fontsize=14)\n",
    "plt.show()"
   ]
  },
  {
   "cell_type": "markdown",
   "metadata": {},
   "source": [
    "### Why is the longitudinal profile concave?\n",
    "\n",
    "The longitudinal profiles of steady state bedrock channels are concave up, as you can see in the figures that the model just produced. Why? \n",
    "\n",
    "Remember that the model is telling us what a steady state channel profile will look like. This means that the elevation is not changing with time. Since every position along the channel is experiencing a constant uplift rate of $0.1$ m/kyr, this means that erosion must also be occuring at a rate of $0.1$ m/kyr at every location along the channel. If the erosion rate was less than the uplift rate, then the elevation would go up. If the erosion rate was greater than the uplift rate then the elevation would go down. \n",
    "\n",
    "Think of a location close to the channel head (i.e. a location that is near the far left part of the plot above). There is very little contributing area at this location because it is high up in the drainage network. But, as we just discussed, there must be exactly $0.1$ meters of erosion occuring at this point every 1 kyr. Erosion is equal to $\\kappa S A^{1/2}$. Since the contributing area ($A$) is small, we can reason that the slope $S$ must be large in order to compensate for that to produce the needed $0.1$ m/kyr of erosion. In contrast, think of a point on the far right side of one of the plots above. This point is far away from the channel head and has a lot of upslope contributing area. Therefore, only a small slope is needed to produce the required $0.1$ m/kyr of erosion. This is why the slope decreases as you move farther away from the channel head! The result is a concave longitudinal profile. "
   ]
  },
  {
   "cell_type": "markdown",
   "metadata": {},
   "source": [
    "### The role of uplift"
   ]
  },
  {
   "cell_type": "markdown",
   "metadata": {},
   "source": [
    "The code cell below is designed to run the same model that we used above. However, the uplift rate has been changed from a value of $0.1$ m/kyr to a value of $0.2$ m/kyr. Run the code and then answer the question below."
   ]
  },
  {
   "cell_type": "code",
   "execution_count": null,
   "metadata": {},
   "outputs": [],
   "source": [
    "# YOU DO NOT NEED TO MODIFY ANY OF THIS CODE\n",
    "\n",
    "U=0.2               # Uplift Rate [m/kyr]\n",
    "kappa=0.01          # Bedrock erodibility\n",
    "time=1000           # Total simulation time [kyr]\n",
    "\n",
    "# Run the model\n",
    "from channelevolution import bedrockchannel\n",
    "[distance,area,elevation,slope] = bedrockchannel(time,U,kappa,kappa,0)\n",
    "\n",
    "# Plot the results\n",
    "import matplotlib.pyplot as plt\n",
    "\n",
    "plt.plot(distance,slope,'b-')\n",
    "plt.xlabel('distance from channel head [m]', fontsize=14)\n",
    "plt.ylabel('|slope| [-]', fontsize=14)\n",
    "plt.show()\n",
    "\n",
    "plt.plot(distance,elevation,'b-')\n",
    "plt.xlabel('distance from channel head [m]', fontsize=14)\n",
    "plt.ylabel('elevation [m]', fontsize=14)\n",
    "plt.show()"
   ]
  },
  {
   "cell_type": "markdown",
   "metadata": {},
   "source": [
    "Examine the plots that the model produced now that we have changed the uplift rate from $0.1$ to $0.2$ m/kyr. Compare this set of plots with the previous model prediction (when the uplift rate was $0.1$ m/kyr). You should see that the channel slopes are much steeper in the case when the uplift rate is $0.2$ m/kyr. In fact, the slope has increased everywhere by exactly a factor of $2$! For example, the maximum channel slope was roughly $0.45$ when uplift was $0.1$ m/kyr and now the maximum slope is roughly $0.9$. **In 1-3 sentences, explain why it makes sense that the channel slope at every point in the channel profile should be exactly twice as steep as it was before (when the uplift rate was 0.1 m/kyr)?** "
   ]
  },
  {
   "cell_type": "markdown",
   "metadata": {},
   "source": [
    "DOUBLE CLICK HERE TO INSERT YOUR ANSWER"
   ]
  },
  {
   "cell_type": "markdown",
   "metadata": {},
   "source": [
    "### How can rock erodibility influence the steady state profile of a bedrock channel? "
   ]
  },
  {
   "cell_type": "markdown",
   "metadata": {},
   "source": [
    "Rocks in the Catalina Mountains include the Wilderness and Oracle granites. The more felsic Wilderness granite has intruded into the more mafic Oracle granite, leading to the formation of alternating bands of these two rocks. The  Oracle granite is more easilly eroded relative to the Wilderness granite. In some locations, the channel is actively eroding through the stronger Wilderness granite and in others it is eroding through the weaker Oracle granite. How does this spatially variable erodibiity influence the longitudinal profile of the channels that drain the Catalina Mountains? We will now set up a model simulation to try to answer this question.\n",
    "\n",
    "We are going to set up a model to see what a steady state channel profile looks like if we have two different types of rocks. The idealized scenario that we will consider is one in which the channel is entirely composed of Oracle granite up until a distance of $1000$ meters from the channel head. After $1000$ meters from the channel head, the channel bed is composed entirely of Wilderness granite. This is clearly an idealization of what is actually happening in the Catalina Mountains, but it will still give us an idea of what how spatially variable rock erodibility can influence a bedrock channel profile. \n",
    "\n",
    "In the code block below, there is a variable called \"kappa_oracle\". This variable represents the erodibility of the Oracle granite. The variable called \"kappa_wilderness\" represents the erodibility of the Wilderness granite. Since the Oracle granite is weaker (and therefore more erodible) than the Wilderness granite, we have set *kappa_oracle* to have a value of $0.01$ and *kappa_wilderness* to have a value of $0.0033$. Run the code block below and examine the resulting plots."
   ]
  },
  {
   "cell_type": "code",
   "execution_count": null,
   "metadata": {},
   "outputs": [],
   "source": [
    "# YOU DO NOT NEED TO MODIFY ANY OF THIS CODE\n",
    "U=0.1                         # Uplift Rate [m/kyr]\n",
    "kappa_oracle=0.01             # Erodibility of Oracle granite\n",
    "kappa_wilderness=0.0033       # Erodibility of Wilderness granite\n",
    "time=1000                     # Total simulation time [kyr]\n",
    "\n",
    "# Run the model\n",
    "from channelevolution import bedrockchannel\n",
    "[distance,area,elevation,slope] = bedrockchannel(time,U,kappa_oracle,kappa_wilderness,0)\n",
    "\n",
    "# Plot the results\n",
    "import matplotlib.pyplot as plt\n",
    "\n",
    "plt.plot(distance,slope,'b-')\n",
    "plt.xlabel('distance from channel head [m]', fontsize=14)\n",
    "plt.ylabel('|slope| [-]', fontsize=14)\n",
    "plt.show()\n",
    "\n",
    "plt.plot(distance,elevation,'b-')\n",
    "plt.xlabel('distance from channel head [m]', fontsize=14)\n",
    "plt.ylabel('elevation [m]', fontsize=14)\n",
    "plt.show()"
   ]
  },
  {
   "cell_type": "markdown",
   "metadata": {},
   "source": [
    "**In 1-2 sentences, describe how the channel profile changes where the rock type switches from Oracle granite to Wilderness granite?**"
   ]
  },
  {
   "cell_type": "markdown",
   "metadata": {},
   "source": [
    "DOUBLE CLICK TO INSERT YOUR ANSWER HERE"
   ]
  },
  {
   "cell_type": "markdown",
   "metadata": {},
   "source": [
    "**Explain (in 1-2 sentences) why the channel profile changes in this way? Hint: remember that this channel profile has reached a steady state, which means that the erosion rate and uplift rate must be equal at all points along the channel profile.**"
   ]
  },
  {
   "cell_type": "markdown",
   "metadata": {},
   "source": [
    "DOUBLE CLICK TO INSERT YOUR ANSWER HERE"
   ]
  },
  {
   "cell_type": "markdown",
   "metadata": {},
   "source": [
    "### Bedrock channel response to a change in base level\n",
    "We now know what the profile of a bedrock channel looks like when it reaches a steady state. What happens when this steady state is disturbed by an instantaneous change in base level? We are going to return to running a model for the simple case where the entire channel is composed of one rock type. However, the scenario that we are going to simulate now is one where a bedrock channel has achieved a steady state profile and then there is a change in its base level. Imagine that the channel we are simulating is draining into a higher order stream. As we know, the elevation at the junction where these two channels meet can be referred to as the *base level* for our channel. Immediately after the start of the simulation, the code will make the base level drop by $10$ meters (see figure below). We can envision this drop in base level as being associated with tectonic activity or an abrupt change in climate that led to incision of the main trunk stream that our channel is draining into.\n",
    "\n",
    "<img src=\"baseleveldrop.png\" alt=\"Drawing\"/>"
   ]
  },
  {
   "cell_type": "markdown",
   "metadata": {},
   "source": [
    "Run the code block below to see what the channel profile looks like 1 kyr after the drop in base level."
   ]
  },
  {
   "cell_type": "code",
   "execution_count": null,
   "metadata": {},
   "outputs": [],
   "source": [
    "# YOU DO NOT NEED TO MODIFY ANY OF THIS CODE\n",
    "\n",
    "U=0.1               # Uplift Rate [m/kyr]\n",
    "kappa=0.01          # Bedrock erodibility\n",
    "time=1              # Total simulation time [kyr]\n",
    "\n",
    "# Run the model\n",
    "from channelevolution import bedrockchannel\n",
    "[distance,area,elevation,slope] = bedrockchannel(time,U,kappa,kappa,10)\n",
    "\n",
    "# Plot the results\n",
    "import matplotlib.pyplot as plt\n",
    "\n",
    "plt.plot(distance,slope,'b-')\n",
    "plt.xlabel('distance from channel head [m]', fontsize=14)\n",
    "plt.ylabel('|slope| [-]', fontsize=14)\n",
    "plt.show()\n",
    "\n",
    "plt.plot(distance,elevation,'b-')\n",
    "plt.xlabel('distance from channel head [m]', fontsize=14)\n",
    "plt.ylabel('elevation [m]', fontsize=14)\n",
    "plt.show()"
   ]
  },
  {
   "cell_type": "markdown",
   "metadata": {},
   "source": [
    "Notice that the channel profile is characterized by a rapid drop in elevation near where it meets the main channel (at a distance of 2000 meters from the channel head). This zone, where there is a rapid change in elevation in the channel profile, is reffered to as a **knickpoint**. You will notice shortly that the location of the knickpoint is not constant; it changes with time. Using the code block below, run a series of simulations to see how the channel profile changes with time. In the code block below, start by setting the variable *time* equal to 20 to see what the profile will look like after 20 kyr. Run the code. Then set *time* equal to 50 and run the code to see what the profile will look after 50 kyr. Continue to increase *time* until the channel profile is no longer changing as a function of time (i.e. you increase the time but see no change in the shape of the channel profile)."
   ]
  },
  {
   "cell_type": "code",
   "execution_count": null,
   "metadata": {},
   "outputs": [],
   "source": [
    "time=1              # Total simulation time [kyr]\n",
    "\n",
    "\n",
    "# YOU DO NOT NEED TO MODIFY ANY OF THIS CODE\n",
    "\n",
    "U=0.1               # Uplift Rate [m/kyr]\n",
    "kappa=0.01          # Bedrock erodibility\n",
    "\n",
    "# Run the model\n",
    "from channelevolution import bedrockchannel\n",
    "[distance,area,elevation,slope] = bedrockchannel(time,U,kappa,kappa,10)\n",
    "\n",
    "# Plot the results\n",
    "import matplotlib.pyplot as plt\n",
    "\n",
    "plt.plot(distance,slope,'b-')\n",
    "plt.xlabel('distance from channel head [m]', fontsize=14)\n",
    "plt.ylabel('|slope| [-]', fontsize=14)\n",
    "plt.show()\n",
    "\n",
    "plt.plot(distance,elevation,'b-')\n",
    "plt.xlabel('distance from channel head [m]', fontsize=14)\n",
    "plt.ylabel('elevation [m]', fontsize=14)\n",
    "plt.show()"
   ]
  },
  {
   "cell_type": "markdown",
   "metadata": {},
   "source": [
    "**In your own words, describe (in 2-3 sentences) what happens to the knickpoint over time. Include the time required for the channel profile to reach a steady state. Use the space provided in the cell below.**"
   ]
  },
  {
   "cell_type": "markdown",
   "metadata": {},
   "source": [
    "DOUBLE CLICK TO INSERT YOUR ANSWER HERE"
   ]
  },
  {
   "cell_type": "markdown",
   "metadata": {},
   "source": [
    "### How could we use our model to test a hypothesis\n",
    "We now have a general idea of the changes that occur in bedrock channels following a change in base level. Let's see how we could use these skills to answer a specific question. Imagine that you are out in the field and observe a large knickpoint in a bedrock channel (see figure below). The knickpoint is currently located 500 meters upstream from a junction with a higher-order stream, which is called Channel B in the figure below. There is paleovegetation evidence that suggests that there was a large decrease in vegetation density in this area roughly 15 thousand years ago. You hypothesize that this abrupt decrease in vegetation density led to a pulse of incision in the main stream (Channel B) and it was this pulse of incision that created the knickpoint that you now see in Channel A. Test this hypothesis using the model in the code block below. (Hint: Use the model to estimate where the knickpoint should be located relative to the channel head if it was actually created 15 thousand years ago.)\n",
    "\n",
    "<img src=\"BaseLevelDropScenario.png\" alt=\"Drawing\"/>"
   ]
  },
  {
   "cell_type": "code",
   "execution_count": null,
   "metadata": {},
   "outputs": [],
   "source": [
    "time=1              # Total simulation time [kyr]\n",
    "\n",
    "# YOU DO NOT NEED TO MODIFY ANY OF THIS CODE\n",
    "U=0.1               # Uplift Rate [m/kyr]\n",
    "kappa=0.01          # Bedrock erodibility\n",
    "\n",
    "\n",
    "# Run the model\n",
    "from channelevolution import bedrockchannel\n",
    "[distance,area,elevation,slope] = bedrockchannel(time,U,kappa,kappa,10)\n",
    "\n",
    "# Plot the results\n",
    "import matplotlib.pyplot as plt\n",
    "\n",
    "plt.plot(distance,slope,'b-')\n",
    "plt.xlabel('distance from channel head [m]', fontsize=14)\n",
    "plt.ylabel('|slope| [-]', fontsize=14)\n",
    "plt.show()\n",
    "\n",
    "plt.plot(distance,elevation,'b-')\n",
    "plt.xlabel('distance from channel head [m]', fontsize=14)\n",
    "plt.ylabel('elevation [m]', fontsize=14)\n",
    "plt.show()"
   ]
  },
  {
   "cell_type": "markdown",
   "metadata": {},
   "source": [
    "**Based your modeling analysis, do you think that the change in vegetation that occured roughly 15 thousand years ago is repsoncible for creating the knickpoint? Explain your answer in 2-3 sentences.**"
   ]
  },
  {
   "cell_type": "markdown",
   "metadata": {},
   "source": [
    "DOUBLE CLICK TO INSERT YOUR ANSWER HERE"
   ]
  }
 ],
 "metadata": {
  "kernelspec": {
   "display_name": "Python 3",
   "language": "python",
   "name": "python3"
  },
  "language_info": {
   "codemirror_mode": {
    "name": "ipython",
    "version": 3
   },
   "file_extension": ".py",
   "mimetype": "text/x-python",
   "name": "python",
   "nbconvert_exporter": "python",
   "pygments_lexer": "ipython3",
   "version": "3.8.5"
  }
 },
 "nbformat": 4,
 "nbformat_minor": 2
}
